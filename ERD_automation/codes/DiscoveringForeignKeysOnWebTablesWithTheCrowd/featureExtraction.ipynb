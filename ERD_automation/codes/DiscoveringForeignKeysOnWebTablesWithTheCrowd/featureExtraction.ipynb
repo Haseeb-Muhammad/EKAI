{
 "cells": [
  {
   "cell_type": "code",
   "execution_count": 61,
   "id": "d1caa05e",
   "metadata": {},
   "outputs": [],
   "source": [
    "import os\n",
    "import pandas as pd\n",
    "import numpy as np\n",
    "import copy"
   ]
  },
  {
   "cell_type": "code",
   "execution_count": 62,
   "id": "c91cd83d",
   "metadata": {},
   "outputs": [
    {
     "name": "stdout",
     "output_type": "stream",
     "text": [
      "Found 2 \n",
      " CSV files: ['event.csv', 'pet.csv']\n",
      "Processing event.csv: 10 rows, 4 columns\n",
      "len(values)=10\n",
      "len(unique_values)=8\n",
      "Added attribute: event.name (10 unique values)\n",
      "len(values)=10\n",
      "len(unique_values)=9\n",
      "Added attribute: event.date (10 unique values)\n",
      "len(values)=10\n",
      "len(unique_values)=4\n",
      "Added attribute: event.type (10 unique values)\n",
      "len(values)=8\n",
      "len(unique_values)=8\n",
      "Added attribute: event.remark  (8 unique values)\n",
      "Processing pet.csv: 8 rows, 6 columns\n",
      "len(values)=8\n",
      "len(unique_values)=8\n",
      "Added attribute: pet.lexicon (8 unique values)\n",
      "len(values)=8\n",
      "len(unique_values)=4\n",
      "Added attribute: pet.owner (8 unique values)\n",
      "len(values)=8\n",
      "len(unique_values)=4\n",
      "Added attribute: pet.species (8 unique values)\n",
      "len(values)=8\n",
      "len(unique_values)=3\n",
      "Added attribute: pet.sex (8 unique values)\n",
      "len(values)=8\n",
      "len(unique_values)=8\n",
      "Added attribute: pet.birth (8 unique values)\n",
      "len(values)=8\n",
      "len(unique_values)=2\n",
      "Added attribute: pet.death (8 unique values)\n"
     ]
    }
   ],
   "source": [
    "\n",
    "\n",
    "def create_attribute(table_name, column_name, values):\n",
    "    values = np.array(sorted(str(v) for v in values if pd.notna(v)))\n",
    "    unique_values = set(sorted(str(v) for v in values if pd.notna(v)))\n",
    "    print(f\"{len(values)=}\")\n",
    "    print(f\"{len(unique_values)=}\")\n",
    "    return {\n",
    "        'table_name': table_name,\n",
    "        'column_name': column_name,\n",
    "        'values': values,\n",
    "        'unique_values': unique_values,\n",
    "        'full_name': f\"{table_name}.{column_name}\",\n",
    "        \"uniqueness\" : len(unique_values) / len(values)\n",
    "    }\n",
    "\n",
    "def load_csv_files(directory_path):\n",
    "    attributes = []\n",
    "\n",
    "    csv_files = [f for f in os.listdir(directory_path)]\n",
    "\n",
    "    print(f\"Found {len(csv_files)} \\n CSV files: {csv_files}\")\n",
    "\n",
    "    for filename in csv_files:\n",
    "        file_path = os.path.join(directory_path, filename)\n",
    "        table_name = os.path.splitext(filename)[0]\n",
    "\n",
    "        df = pd.read_csv(file_path)\n",
    "        print(f\"Processing {filename}: {df.shape[0]} rows, {df.shape[1]} columns\")\n",
    "\n",
    "        for column in df.columns:\n",
    "            non_null_values = df[column].dropna().tolist()\n",
    "            if non_null_values:\n",
    "                attr = create_attribute(table_name, column, non_null_values)\n",
    "                if len(attr['values']) !=0:\n",
    "                    attributes.append(attr)\n",
    "                print(f\"Added attribute: {attr['full_name']} ({len(attr['values'])} unique values)\")\n",
    "\n",
    "    return attributes\n",
    "    \n",
    "attributes = load_csv_files(\"/home/haseeb/Desktop/EKAI/ERD_automation/Dataset/train/menagerie-db\")            \n",
    "            "
   ]
  },
  {
   "cell_type": "code",
   "execution_count": 63,
   "id": "91263da3",
   "metadata": {},
   "outputs": [],
   "source": [
    "attributes1 = copy.deepcopy(attributes)"
   ]
  },
  {
   "cell_type": "code",
   "execution_count": 64,
   "id": "27275960",
   "metadata": {},
   "outputs": [],
   "source": [
    "def levenshtein_distance(s1: str, s2: str) -> int:\n",
    "    len_s1, len_s2 = len(s1), len(s2)\n",
    "\n",
    "    # Create a 2D matrix to store distances\n",
    "    dp = [[0] * (len_s2 + 1) for _ in range(len_s1 + 1)]\n",
    "\n",
    "    # Initialize base cases\n",
    "    for i in range(len_s1 + 1):\n",
    "        dp[i][0] = i\n",
    "    for j in range(len_s2 + 1):\n",
    "        dp[0][j] = j\n",
    "\n",
    "    # Fill in the matrix\n",
    "    for i in range(1, len_s1 + 1):\n",
    "        for j in range(1, len_s2 + 1):\n",
    "            if s1[i - 1] == s2[j - 1]:\n",
    "                cost = 0\n",
    "            else:\n",
    "                cost = 1\n",
    "\n",
    "            dp[i][j] = min(\n",
    "                dp[i - 1][j] + 1,      # Deletion\n",
    "                dp[i][j - 1] + 1,      # Insertion\n",
    "                dp[i - 1][j - 1] + cost  # Substitution\n",
    "            )\n",
    "\n",
    "    return dp[len_s1][len_s2]\n"
   ]
  },
  {
   "cell_type": "code",
   "execution_count": null,
   "id": "fda7100b",
   "metadata": {},
   "outputs": [],
   "source": [
    "def create_attribute_pairs(attributes, gemma, ):\n",
    "    pairs = []\n",
    "    for i, reference in enumerate(attributes):\n",
    "        for j, dependent in enumerate(attributes):   \n",
    "            if reference['table_name'] == dependent['table_name']:\n",
    "                continue\n",
    "            coverage = len(reference[\"unique_values\"] & dependent[\"unique_values\"]) / len(reference[\"unique_values\"])\n",
    "            pairs.append({\n",
    "                \"reference\" : reference,\n",
    "                \"dependent\" : dependent,\n",
    "                \"reference_uniqueness\" : reference[\"uniqueness\"],\n",
    "                \"coverage\" : coverage,\n",
    "                \"dist\" : levenshtein_distance(reference[\"column_name\"], dependent[\"column_name\"]),\n",
    "                \"dependent_uniqueness\" :  1 if dependent[\"uniqueness\"]>gemma else 0\n",
    "            })\n",
    "    return pairs\n",
    "pairs = create_attribute_pairs(attributes1, 1)"
   ]
  },
  {
   "cell_type": "code",
   "execution_count": 67,
   "id": "4dd0f8db",
   "metadata": {},
   "outputs": [
    {
     "name": "stdout",
     "output_type": "stream",
     "text": [
      "{'reference': {'table_name': 'event', 'column_name': 'name', 'values': array(['Bowser', 'Buffy', 'Buffy', 'Chirpy', 'Claws', 'Fang', 'Fang',\n",
      "       'Fluffy', 'Slim', 'Whistler'], dtype='<U8'), 'unique_values': {'Bowser', 'Slim', 'Fang', 'Fluffy', 'Buffy', 'Chirpy', 'Whistler', 'Claws'}, 'full_name': 'event.name', 'uniqueness': 0.8}, 'dependent': {'table_name': 'pet', 'column_name': 'owner', 'values': array(['Benny', 'Benny', 'Diane', 'Gwen', 'Gwen', 'Gwen', 'Harold',\n",
      "       'Harold'], dtype='<U6'), 'unique_values': {'Diane', 'Benny', 'Harold', 'Gwen'}, 'full_name': 'pet.owner', 'uniqueness': 0.5}, 'reference_uniqueness': 0.8, 'coverage': 0.0, 'dist': 4, 'dependent_uniqueness': 0}\n"
     ]
    }
   ],
   "source": [
    "print(pairs[1])"
   ]
  }
 ],
 "metadata": {
  "kernelspec": {
   "display_name": "ERD_automation_1",
   "language": "python",
   "name": "python3"
  },
  "language_info": {
   "codemirror_mode": {
    "name": "ipython",
    "version": 3
   },
   "file_extension": ".py",
   "mimetype": "text/x-python",
   "name": "python",
   "nbconvert_exporter": "python",
   "pygments_lexer": "ipython3",
   "version": "3.10.18"
  }
 },
 "nbformat": 4,
 "nbformat_minor": 5
}
