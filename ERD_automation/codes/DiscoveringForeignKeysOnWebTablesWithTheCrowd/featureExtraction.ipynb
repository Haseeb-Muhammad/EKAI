{
 "cells": [
  {
   "cell_type": "code",
   "execution_count": 1,
   "id": "d1caa05e",
   "metadata": {},
   "outputs": [
    {
     "name": "stderr",
     "output_type": "stream",
     "text": [
      "/home/haseeb/anaconda3/envs/ERD_automation/lib/python3.13/site-packages/fuzzywuzzy/fuzz.py:11: UserWarning: Using slow pure-python SequenceMatcher. Install python-Levenshtein to remove this warning\n",
      "  warnings.warn('Using slow pure-python SequenceMatcher. Install python-Levenshtein to remove this warning')\n"
     ]
    }
   ],
   "source": [
    "import os\n",
    "import pandas as pd\n",
    "import numpy as np\n",
    "import copy\n",
    "from fuzzywuzzy import fuzz\n",
    "import timeit"
   ]
  },
  {
   "cell_type": "code",
   "execution_count": null,
   "id": "c91cd83d",
   "metadata": {},
   "outputs": [
    {
     "name": "stdout",
     "output_type": "stream",
     "text": [
      "Time with native pandas functions implementation: 0.03882544800035248\n"
     ]
    }
   ],
   "source": [
    "\n",
    "\n",
    "def create_attribute(table_name, column_name, values):\n",
    "    values = np.array(sorted(str(v) for v in values if pd.notna(v)))\n",
    "    unique_values = set(sorted(str(v) for v in values if pd.notna(v)))\n",
    "    print(f\"{len(values)=}\")\n",
    "    print(f\"{len(unique_values)=}\")\n",
    "    return {\n",
    "        'table_name': table_name,\n",
    "        'column_name': column_name,\n",
    "        'values': values,\n",
    "        'unique_values': unique_values,\n",
    "        'full_name': f\"{table_name}.{column_name}\",\n",
    "        \"uniqueness\" : len(unique_values) / len(values)\n",
    "    }\n",
    "\n",
    "def load_csv_files(directory_path):\n",
    "    attributes = []\n",
    "\n",
    "    csv_files = [f for f in os.listdir(directory_path)]\n",
    "\n",
    "    print(f\"Found {len(csv_files)} \\n CSV files: {csv_files}\")\n",
    "\n",
    "    for filename in csv_files:\n",
    "        file_path = os.path.join(directory_path, filename)\n",
    "        table_name = os.path.splitext(filename)[0]\n",
    "\n",
    "        df = pd.read_csv(file_path)\n",
    "        print(f\"Processing {filename}: {df.shape[0]} rows, {df.shape[1]} columns\")\n",
    "\n",
    "        for column in df.columns:\n",
    "            non_null_values = df[column].dropna().tolist()\n",
    "            if non_null_values:\n",
    "                attr = create_attribute(table_name, column, non_null_values)\n",
    "                if len(attr['values']) !=0:\n",
    "                    attributes.append(attr)\n",
    "                print(f\"Added attribute: {attr['full_name']} ({len(attr['values'])} unique values)\")\n",
    "\n",
    "    return attributes\n",
    "    \n",
    "attributes = load_csv_files(\"/home/haseeb/Desktop/EKAI/ERD_automation/Dataset/train/menagerie-db\")            \n",
    "            "
   ]
  },
  {
   "cell_type": "code",
   "execution_count": null,
   "id": "91263da3",
   "metadata": {},
   "outputs": [],
   "source": [
    "attributes1 = copy.deepcopy(attributes)"
   ]
  },
  {
   "cell_type": "code",
   "execution_count": null,
   "id": "27275960",
   "metadata": {},
   "outputs": [],
   "source": [
    "def levenshtein_distance(s1: str, s2: str) -> int:\n",
    "    similarity = fuzz.partial_ratio(s1, s2)\n",
    "    return similarity /100\n"
   ]
  },
  {
   "cell_type": "code",
   "execution_count": null,
   "id": "fda7100b",
   "metadata": {},
   "outputs": [],
   "source": [
    "def create_attribute_pairs(attributes, gemma, ):\n",
    "    pairs = []\n",
    "    for i, reference in enumerate(attributes):\n",
    "        for j, dependent in enumerate(attributes):   \n",
    "            if reference['table_name'] == dependent['table_name']:\n",
    "                continue\n",
    "            coverage = len(reference[\"unique_values\"] & dependent[\"unique_values\"]) / len(reference[\"unique_values\"])\n",
    "            pairs.append({\n",
    "                \"reference\" : reference,\n",
    "                \"dependent\" : dependent,\n",
    "                \"reference_uniqueness\" : reference[\"uniqueness\"],\n",
    "                \"coverage\" : coverage,\n",
    "                \"dist\" : levenshtein_distance(reference[\"column_name\"], dependent[\"column_name\"]),\n",
    "                \"dependent_uniqueness\" :  1 if dependent[\"uniqueness\"]>gemma else 0\n",
    "            })\n",
    "    return pairs\n",
    "pairs = create_attribute_pairs(attributes1, 1)"
   ]
  },
  {
   "cell_type": "code",
   "execution_count": null,
   "id": "4dd0f8db",
   "metadata": {},
   "outputs": [],
   "source": [
    "print(pairs[1])"
   ]
  }
 ],
 "metadata": {
  "kernelspec": {
   "display_name": "ERD_automation",
   "language": "python",
   "name": "python3"
  },
  "language_info": {
   "codemirror_mode": {
    "name": "ipython",
    "version": 3
   },
   "file_extension": ".py",
   "mimetype": "text/x-python",
   "name": "python",
   "nbconvert_exporter": "python",
   "pygments_lexer": "ipython3",
   "version": "3.13.5"
  }
 },
 "nbformat": 4,
 "nbformat_minor": 5
}
