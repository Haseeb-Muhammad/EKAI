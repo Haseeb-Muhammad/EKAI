{
 "cells": [
  {
   "cell_type": "code",
   "execution_count": 1,
   "id": "7e218eab",
   "metadata": {},
   "outputs": [],
   "source": [
    "import os\n",
    "import pandas as pd\n",
    "import numpy as np\n",
    "import copy\n",
    "from datasketch import HyperLogLog"
   ]
  },
  {
   "cell_type": "markdown",
   "id": "a86f4281",
   "metadata": {},
   "source": [
    "# Points\n",
    "For now i am assuming that primary key is only a single attribute"
   ]
  },
  {
   "cell_type": "code",
   "execution_count": 8,
   "id": "905e9723",
   "metadata": {},
   "outputs": [],
   "source": [
    "class Attribute:\n",
    "    def __init__(self, table_name, attribute_name, values):\n",
    "        self.table_name = table_name\n",
    "        self.attribute_name = attribute_name\n",
    "        self.values = values\n",
    "        self.uniquness = self.estUniqueness()\n",
    "    \n",
    "    def estUniqueness(self):\n",
    "        hll = HyperLogLog(p=14)\n",
    "        total = 0\n",
    "        \n",
    "        for value in self.values:\n",
    "            hll.update(value)\n",
    "            total +=1\n",
    "\n",
    "        return len(hll) / total\n"
   ]
  },
  {
   "cell_type": "code",
   "execution_count": null,
   "id": "730b5f44",
   "metadata": {},
   "outputs": [
    {
     "name": "stdout",
     "output_type": "stream",
     "text": [
      "Found 2 \n",
      " CSV files: ['event.csv', 'pet.csv']\n",
      "Processing event.csv: 10 rows, 4 columns\n"
     ]
    },
    {
     "ename": "TypeError",
     "evalue": "Strings must be encoded before hashing",
     "output_type": "error",
     "traceback": [
      "\u001b[0;31m---------------------------------------------------------------------------\u001b[0m",
      "\u001b[0;31mTypeError\u001b[0m                                 Traceback (most recent call last)",
      "Cell \u001b[0;32mIn[9], line 24\u001b[0m\n\u001b[1;32m     20\u001b[0m                 \u001b[38;5;28mprint\u001b[39m(\u001b[38;5;124mf\u001b[39m\u001b[38;5;124m\"\u001b[39m\u001b[38;5;124mAdded attribute: \u001b[39m\u001b[38;5;132;01m{\u001b[39;00mattr\u001b[38;5;241m.\u001b[39mtable_name\u001b[38;5;132;01m}\u001b[39;00m\u001b[38;5;124m.\u001b[39m\u001b[38;5;132;01m{\u001b[39;00mattr\u001b[38;5;241m.\u001b[39mattribute_name\u001b[38;5;132;01m}\u001b[39;00m\u001b[38;5;124m (\u001b[39m\u001b[38;5;132;01m{\u001b[39;00m\u001b[38;5;28mlen\u001b[39m(attr\u001b[38;5;241m.\u001b[39mvalues)\u001b[38;5;132;01m}\u001b[39;00m\u001b[38;5;124m values)\u001b[39m\u001b[38;5;124m\"\u001b[39m)\n\u001b[1;32m     22\u001b[0m     \u001b[38;5;28;01mreturn\u001b[39;00m attributes\n\u001b[0;32m---> 24\u001b[0m attributes \u001b[38;5;241m=\u001b[39m \u001b[43mload_csv_files\u001b[49m\u001b[43m(\u001b[49m\u001b[38;5;124;43m\"\u001b[39;49m\u001b[38;5;124;43m/home/haseeb/Desktop/EKAI/ERD_automation/Dataset/train/menagerie-db\u001b[39;49m\u001b[38;5;124;43m\"\u001b[39;49m\u001b[43m)\u001b[49m            \n",
      "Cell \u001b[0;32mIn[9], line 18\u001b[0m, in \u001b[0;36mload_csv_files\u001b[0;34m(directory_path)\u001b[0m\n\u001b[1;32m     16\u001b[0m non_null_values \u001b[38;5;241m=\u001b[39m df[column]\u001b[38;5;241m.\u001b[39mastype(\u001b[38;5;28mstr\u001b[39m)\u001b[38;5;241m.\u001b[39mdropna()\u001b[38;5;241m.\u001b[39mtolist()\n\u001b[1;32m     17\u001b[0m \u001b[38;5;28;01mif\u001b[39;00m non_null_values:\n\u001b[0;32m---> 18\u001b[0m     attr \u001b[38;5;241m=\u001b[39m \u001b[43mAttribute\u001b[49m\u001b[43m(\u001b[49m\u001b[43mtable_name\u001b[49m\u001b[43m,\u001b[49m\u001b[43m \u001b[49m\u001b[43mcolumn\u001b[49m\u001b[43m,\u001b[49m\u001b[43m \u001b[49m\u001b[43mnon_null_values\u001b[49m\u001b[43m)\u001b[49m\n\u001b[1;32m     19\u001b[0m     attributes[\u001b[38;5;124mf\u001b[39m\u001b[38;5;124m\"\u001b[39m\u001b[38;5;132;01m{\u001b[39;00mtable_name\u001b[38;5;132;01m}\u001b[39;00m\u001b[38;5;124m.\u001b[39m\u001b[38;5;132;01m{\u001b[39;00mcolumn\u001b[38;5;132;01m}\u001b[39;00m\u001b[38;5;124m\"\u001b[39m] \u001b[38;5;241m=\u001b[39m attr\n\u001b[1;32m     20\u001b[0m     \u001b[38;5;28mprint\u001b[39m(\u001b[38;5;124mf\u001b[39m\u001b[38;5;124m\"\u001b[39m\u001b[38;5;124mAdded attribute: \u001b[39m\u001b[38;5;132;01m{\u001b[39;00mattr\u001b[38;5;241m.\u001b[39mtable_name\u001b[38;5;132;01m}\u001b[39;00m\u001b[38;5;124m.\u001b[39m\u001b[38;5;132;01m{\u001b[39;00mattr\u001b[38;5;241m.\u001b[39mattribute_name\u001b[38;5;132;01m}\u001b[39;00m\u001b[38;5;124m (\u001b[39m\u001b[38;5;132;01m{\u001b[39;00m\u001b[38;5;28mlen\u001b[39m(attr\u001b[38;5;241m.\u001b[39mvalues)\u001b[38;5;132;01m}\u001b[39;00m\u001b[38;5;124m values)\u001b[39m\u001b[38;5;124m\"\u001b[39m)\n",
      "Cell \u001b[0;32mIn[8], line 6\u001b[0m, in \u001b[0;36mAttribute.__init__\u001b[0;34m(self, table_name, attribute_name, values)\u001b[0m\n\u001b[1;32m      4\u001b[0m \u001b[38;5;28mself\u001b[39m\u001b[38;5;241m.\u001b[39mattribute_name \u001b[38;5;241m=\u001b[39m attribute_name\n\u001b[1;32m      5\u001b[0m \u001b[38;5;28mself\u001b[39m\u001b[38;5;241m.\u001b[39mvalues \u001b[38;5;241m=\u001b[39m values\n\u001b[0;32m----> 6\u001b[0m \u001b[38;5;28mself\u001b[39m\u001b[38;5;241m.\u001b[39muniquness \u001b[38;5;241m=\u001b[39m \u001b[38;5;28;43mself\u001b[39;49m\u001b[38;5;241;43m.\u001b[39;49m\u001b[43mestUniqueness\u001b[49m\u001b[43m(\u001b[49m\u001b[43m)\u001b[49m\n",
      "Cell \u001b[0;32mIn[8], line 13\u001b[0m, in \u001b[0;36mAttribute.estUniqueness\u001b[0;34m(self)\u001b[0m\n\u001b[1;32m     10\u001b[0m total \u001b[38;5;241m=\u001b[39m \u001b[38;5;241m0\u001b[39m\n\u001b[1;32m     12\u001b[0m \u001b[38;5;28;01mfor\u001b[39;00m value \u001b[38;5;129;01min\u001b[39;00m \u001b[38;5;28mself\u001b[39m\u001b[38;5;241m.\u001b[39mvalues:\n\u001b[0;32m---> 13\u001b[0m     \u001b[43mhll\u001b[49m\u001b[38;5;241;43m.\u001b[39;49m\u001b[43mupdate\u001b[49m\u001b[43m(\u001b[49m\u001b[43mvalue\u001b[49m\u001b[43m)\u001b[49m\n\u001b[1;32m     14\u001b[0m     total \u001b[38;5;241m+\u001b[39m\u001b[38;5;241m=\u001b[39m\u001b[38;5;241m1\u001b[39m\n\u001b[1;32m     16\u001b[0m \u001b[38;5;28;01mreturn\u001b[39;00m \u001b[38;5;28mlen\u001b[39m(hll) \u001b[38;5;241m/\u001b[39m total\n",
      "File \u001b[0;32m~/anaconda3/envs/ERD_automation_1/lib/python3.10/site-packages/datasketch/hyperloglog.py:131\u001b[0m, in \u001b[0;36mHyperLogLog.update\u001b[0;34m(self, b)\u001b[0m\n\u001b[1;32m    103\u001b[0m \u001b[38;5;250m\u001b[39m\u001b[38;5;124;03m\"\"\"\u001b[39;00m\n\u001b[1;32m    104\u001b[0m \u001b[38;5;124;03mUpdate the HyperLogLog with a new data value in bytes.\u001b[39;00m\n\u001b[1;32m    105\u001b[0m \u001b[38;5;124;03mThe value will be hashed using the hash function specified by\u001b[39;00m\n\u001b[0;32m   (...)\u001b[0m\n\u001b[1;32m    128\u001b[0m \u001b[38;5;124;03m        hll.update(\"new value\")\u001b[39;00m\n\u001b[1;32m    129\u001b[0m \u001b[38;5;124;03m\"\"\"\u001b[39;00m\n\u001b[1;32m    130\u001b[0m \u001b[38;5;66;03m# Digest the hash object to get the hash value\u001b[39;00m\n\u001b[0;32m--> 131\u001b[0m hv \u001b[38;5;241m=\u001b[39m \u001b[38;5;28;43mself\u001b[39;49m\u001b[38;5;241;43m.\u001b[39;49m\u001b[43mhashfunc\u001b[49m\u001b[43m(\u001b[49m\u001b[43mb\u001b[49m\u001b[43m)\u001b[49m\n\u001b[1;32m    132\u001b[0m \u001b[38;5;66;03m# Get the index of the register using the first p bits of the hash\u001b[39;00m\n\u001b[1;32m    133\u001b[0m reg_index \u001b[38;5;241m=\u001b[39m hv \u001b[38;5;241m&\u001b[39m (\u001b[38;5;28mself\u001b[39m\u001b[38;5;241m.\u001b[39mm \u001b[38;5;241m-\u001b[39m \u001b[38;5;241m1\u001b[39m)\n",
      "File \u001b[0;32m~/anaconda3/envs/ERD_automation_1/lib/python3.10/site-packages/datasketch/hashfunc.py:13\u001b[0m, in \u001b[0;36msha1_hash32\u001b[0;34m(data)\u001b[0m\n\u001b[1;32m      4\u001b[0m \u001b[38;5;28;01mdef\u001b[39;00m\u001b[38;5;250m \u001b[39m\u001b[38;5;21msha1_hash32\u001b[39m(data):\n\u001b[1;32m      5\u001b[0m \u001b[38;5;250m    \u001b[39m\u001b[38;5;124;03m\"\"\"A 32-bit hash function based on SHA1.\u001b[39;00m\n\u001b[1;32m      6\u001b[0m \n\u001b[1;32m      7\u001b[0m \u001b[38;5;124;03m    Args:\u001b[39;00m\n\u001b[0;32m   (...)\u001b[0m\n\u001b[1;32m     11\u001b[0m \u001b[38;5;124;03m        int: an integer hash value that can be encoded using 32 bits.\u001b[39;00m\n\u001b[1;32m     12\u001b[0m \u001b[38;5;124;03m    \"\"\"\u001b[39;00m\n\u001b[0;32m---> 13\u001b[0m     \u001b[38;5;28;01mreturn\u001b[39;00m struct\u001b[38;5;241m.\u001b[39munpack(\u001b[38;5;124m'\u001b[39m\u001b[38;5;124m<I\u001b[39m\u001b[38;5;124m'\u001b[39m, \u001b[43mhashlib\u001b[49m\u001b[38;5;241;43m.\u001b[39;49m\u001b[43msha1\u001b[49m\u001b[43m(\u001b[49m\u001b[43mdata\u001b[49m\u001b[43m)\u001b[49m\u001b[38;5;241m.\u001b[39mdigest()[:\u001b[38;5;241m4\u001b[39m])[\u001b[38;5;241m0\u001b[39m]\n",
      "\u001b[0;31mTypeError\u001b[0m: Strings must be encoded before hashing"
     ]
    }
   ],
   "source": [
    "def load_csv_files(directory_path):\n",
    "    attributes = {}\n",
    "\n",
    "    csv_files = [f for f in os.listdir(directory_path)]\n",
    "\n",
    "    print(f\"Found {len(csv_files)} \\n CSV files: {csv_files}\")    \n",
    "\n",
    "    for filename in csv_files:\n",
    "        file_path = os.path.join(directory_path, filename)\n",
    "        table_name = os.path.splitext(filename)[0]\n",
    "\n",
    "        df = pd.read_csv(file_path)\n",
    "        print(f\"Processing {filename}: {df.shape[0]} rows, {df.shape[1]} columns\")\n",
    "\n",
    "        for column in df.columns:\n",
    "            non_null_values = df[column].dropna().tolist()\n",
    "            if non_null_values:\n",
    "                attr = Attribute(table_name, column, non_null_values)\n",
    "                attributes[f\"{table_name}.{column}\"] = attr\n",
    "                print(f\"Added attribute: {attr.table_name}.{attr.attribute_name} ({len(attr.values)} values)\")\n",
    "\n",
    "    return attributes\n",
    "    \n",
    "attributes = load_csv_files(\"/home/haseeb/Desktop/EKAI/ERD_automation/Dataset/train/menagerie-db\")            \n",
    "            "
   ]
  },
  {
   "cell_type": "code",
   "execution_count": null,
   "id": "72e8595b",
   "metadata": {},
   "outputs": [],
   "source": [
    "attributes[\"pet.owner\"].uniquness"
   ]
  },
  {
   "cell_type": "code",
   "execution_count": null,
   "id": "1c455553",
   "metadata": {},
   "outputs": [],
   "source": []
  }
 ],
 "metadata": {
  "kernelspec": {
   "display_name": "ERD_automation_1",
   "language": "python",
   "name": "python3"
  },
  "language_info": {
   "codemirror_mode": {
    "name": "ipython",
    "version": 3
   },
   "file_extension": ".py",
   "mimetype": "text/x-python",
   "name": "python",
   "nbconvert_exporter": "python",
   "pygments_lexer": "ipython3",
   "version": "3.10.18"
  }
 },
 "nbformat": 4,
 "nbformat_minor": 5
}
