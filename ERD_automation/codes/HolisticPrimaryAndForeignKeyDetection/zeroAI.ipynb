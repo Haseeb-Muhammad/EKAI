{
 "cells": [
  {
   "cell_type": "code",
   "execution_count": null,
   "id": "7e218eab",
   "metadata": {},
   "outputs": [],
   "source": [
    "import os\n",
    "import pandas as pd\n",
    "import numpy as np\n",
    "import copy\n",
    "import hyperloglog"
   ]
  },
  {
   "cell_type": "markdown",
   "id": "a86f4281",
   "metadata": {},
   "source": [
    "# Points\n",
    "For now i am assuming that primary key is only a single attribute"
   ]
  },
  {
   "cell_type": "code",
   "execution_count": 9,
   "id": "905e9723",
   "metadata": {},
   "outputs": [],
   "source": [
    "class Attribute:\n",
    "    def __init__(self, table_name, attribute_name, values):\n",
    "        self.table_name = table_name\n",
    "        self.attribute_name = attribute_name\n",
    "        self.values = values\n",
    "        self.uniquness = self.estUniqueness()\n",
    "    \n",
    "    def estUniqueness(self):\n",
    "        hll = HyperLogLog()\n",
    "        total = 0\n",
    "        \n",
    "        for value in self.values:\n",
    "            hll.update(str(value).encode('utf-8'))\n",
    "            total +=1\n",
    "        print(f\"{total=}\")\n",
    "        print(f\"{len(hll)=}\")\n",
    "        \n",
    "        return len(hll) / total\n"
   ]
  },
  {
   "cell_type": "code",
   "execution_count": 10,
   "id": "730b5f44",
   "metadata": {},
   "outputs": [
    {
     "name": "stdout",
     "output_type": "stream",
     "text": [
      "Found 2 \n",
      " CSV files: ['event.csv', 'pet.csv']\n",
      "Processing event.csv: 10 rows, 4 columns\n",
      "total=10\n",
      "len(hll)=256\n",
      "Added attribute: event.name (10 values)\n",
      "total=10\n",
      "len(hll)=256\n",
      "Added attribute: event.date (10 values)\n",
      "total=10\n",
      "len(hll)=256\n",
      "Added attribute: event.type (10 values)\n",
      "total=8\n",
      "len(hll)=256\n",
      "Added attribute: event.remark  (8 values)\n",
      "Processing pet.csv: 8 rows, 6 columns\n",
      "total=8\n",
      "len(hll)=256\n",
      "Added attribute: pet.lexicon (8 values)\n",
      "total=8\n",
      "len(hll)=256\n",
      "Added attribute: pet.owner (8 values)\n",
      "total=8\n",
      "len(hll)=256\n",
      "Added attribute: pet.species (8 values)\n",
      "total=8\n",
      "len(hll)=256\n",
      "Added attribute: pet.sex (8 values)\n",
      "total=8\n",
      "len(hll)=256\n",
      "Added attribute: pet.birth (8 values)\n",
      "total=8\n",
      "len(hll)=256\n",
      "Added attribute: pet.death (8 values)\n"
     ]
    }
   ],
   "source": [
    "def load_csv_files(directory_path):\n",
    "    attributes = {}\n",
    "\n",
    "    csv_files = [f for f in os.listdir(directory_path)]\n",
    "\n",
    "    print(f\"Found {len(csv_files)} \\n CSV files: {csv_files}\")    \n",
    "\n",
    "    for filename in csv_files:\n",
    "        file_path = os.path.join(directory_path, filename)\n",
    "        table_name = os.path.splitext(filename)[0]\n",
    "\n",
    "        df = pd.read_csv(file_path)\n",
    "        df = df\n",
    "        print(f\"Processing {filename}: {df.shape[0]} rows, {df.shape[1]} columns\")\n",
    "\n",
    "        for column in df.columns:\n",
    "            non_null_values = df[column].dropna().tolist()\n",
    "            if non_null_values:\n",
    "                attr = Attribute(table_name, column, non_null_values)\n",
    "                attributes[f\"{table_name}.{column}\"] = attr\n",
    "                print(f\"Added attribute: {attr.table_name}.{attr.attribute_name} ({len(attr.values)} values)\")\n",
    "\n",
    "    return attributes\n",
    "    \n",
    "attributes = load_csv_files(\"/home/haseeb/Desktop/EKAI/ERD_automation/Dataset/train/menagerie-db\")            \n",
    "            "
   ]
  },
  {
   "cell_type": "code",
   "execution_count": 12,
   "id": "72e8595b",
   "metadata": {},
   "outputs": [
    {
     "data": {
      "text/plain": [
       "32.0"
      ]
     },
     "execution_count": 12,
     "metadata": {},
     "output_type": "execute_result"
    }
   ],
   "source": [
    "attributes[\"pet.lexicon\"].uniquness"
   ]
  },
  {
   "cell_type": "code",
   "execution_count": null,
   "id": "1c455553",
   "metadata": {},
   "outputs": [],
   "source": []
  }
 ],
 "metadata": {
  "kernelspec": {
   "display_name": "ERD_automation_1",
   "language": "python",
   "name": "python3"
  },
  "language_info": {
   "codemirror_mode": {
    "name": "ipython",
    "version": 3
   },
   "file_extension": ".py",
   "mimetype": "text/x-python",
   "name": "python",
   "nbconvert_exporter": "python",
   "pygments_lexer": "ipython3",
   "version": "3.10.18"
  }
 },
 "nbformat": 4,
 "nbformat_minor": 5
}
