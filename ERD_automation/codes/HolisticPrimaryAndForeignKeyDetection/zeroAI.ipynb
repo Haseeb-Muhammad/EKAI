{
 "cells": [
  {
   "cell_type": "code",
   "execution_count": 1,
   "id": "7e218eab",
   "metadata": {},
   "outputs": [],
   "source": [
    "import os\n",
    "import pandas as pd\n",
    "import numpy as np\n",
    "import copy\n",
    "# import hyperloglog\n",
    "from datasketch import HyperLogLog"
   ]
  },
  {
   "cell_type": "markdown",
   "id": "a86f4281",
   "metadata": {},
   "source": [
    "# Points\n",
    "For now i am assuming that primary key is only a single attribute"
   ]
  },
  {
   "cell_type": "code",
   "execution_count": 2,
   "id": "905e9723",
   "metadata": {},
   "outputs": [],
   "source": [
    "class Attribute:\n",
    "    def __init__(self, table_name, attribute_name, values):\n",
    "        self.table_name = table_name\n",
    "        self.attribute_name = attribute_name\n",
    "        self.values = values\n",
    "\n",
    "        self.uniquness = self.estUniqueness()\n",
    "        self.cardinality=1\n",
    "        self.value_length = 1/max(1, max([len(x) for x in values]) - 8)\n",
    "        self.position = 0\n",
    "        self.suffix = self.check_suffix()\n",
    "        \n",
    "        self.dependent = [] # It's dependent attributes\n",
    "        self.reference = [] # Attributes that it references from \n",
    "\n",
    "        self.pkScore = 0\n",
    "        self.pkScore += self.uniquness\n",
    "        self.pkScore += self.cardinality\n",
    "        self.pkScore += self.value_length\n",
    "        self.pkScore += self.position\n",
    "        self.pkScore += self.suffix\n",
    "\n",
    "    def estUniqueness(self):\n",
    "        hll = HyperLogLog()\n",
    "        total = 0\n",
    "        \n",
    "        for value in self.values:\n",
    "            hll.update(str(value).encode('utf8'))\n",
    "            total +=1\n",
    "        # print(f\"{hll.count()=}\")\n",
    "        \n",
    "        return hll.count() / total\n",
    "    \n",
    "    def check_suffix(self, suffix_list=[\"key\", 'id', 'nr', 'no']):\n",
    "        for suffix in suffix_list:\n",
    "            if suffix in self.attribute_name:\n",
    "                return 1\n",
    "            else:\n",
    "                return 0\n"
   ]
  },
  {
   "cell_type": "code",
   "execution_count": null,
   "id": "730b5f44",
   "metadata": {},
   "outputs": [
    {
     "name": "stdout",
     "output_type": "stream",
     "text": [
      "Found 11 \n",
      " CSV files: ['employee_territories.csv', 'products.csv', 'orders.csv', 'customers.csv', 'territories.csv', 'orders_details.csv', 'suppliers.csv', 'employees.csv', 'categories.csv', 'shippers.csv', 'regions.csv']\n",
      "Processing employee_territories.csv: 49 rows, 2 columns\n"
     ]
    },
    {
     "ename": "TypeError",
     "evalue": "object of type 'int' has no len()",
     "output_type": "error",
     "traceback": [
      "\u001b[0;31m---------------------------------------------------------------------------\u001b[0m",
      "\u001b[0;31mTypeError\u001b[0m                                 Traceback (most recent call last)",
      "Cell \u001b[0;32mIn[3], line 27\u001b[0m\n\u001b[1;32m     23\u001b[0m                 \u001b[38;5;28mprint\u001b[39m(attr\u001b[38;5;241m.\u001b[39mposition)\n\u001b[1;32m     25\u001b[0m     \u001b[38;5;28;01mreturn\u001b[39;00m attributes\n\u001b[0;32m---> 27\u001b[0m attributes \u001b[38;5;241m=\u001b[39m \u001b[43mload_csv_files\u001b[49m\u001b[43m(\u001b[49m\u001b[38;5;124;43m\"\u001b[39;49m\u001b[38;5;124;43m/home/haseeb/Desktop/EKAI/ERD_automation/Dataset/train/northwind-db\u001b[39;49m\u001b[38;5;124;43m\"\u001b[39;49m\u001b[43m)\u001b[49m            \n",
      "Cell \u001b[0;32mIn[3], line 19\u001b[0m, in \u001b[0;36mload_csv_files\u001b[0;34m(directory_path)\u001b[0m\n\u001b[1;32m     17\u001b[0m non_null_values \u001b[38;5;241m=\u001b[39m df[column]\u001b[38;5;241m.\u001b[39mdropna()\u001b[38;5;241m.\u001b[39mtolist()\n\u001b[1;32m     18\u001b[0m \u001b[38;5;28;01mif\u001b[39;00m non_null_values:\n\u001b[0;32m---> 19\u001b[0m     attr \u001b[38;5;241m=\u001b[39m \u001b[43mAttribute\u001b[49m\u001b[43m(\u001b[49m\u001b[43mtable_name\u001b[49m\u001b[43m,\u001b[49m\u001b[43m \u001b[49m\u001b[43mcolumn\u001b[49m\u001b[43m,\u001b[49m\u001b[43m \u001b[49m\u001b[43mnon_null_values\u001b[49m\u001b[43m)\u001b[49m\n\u001b[1;32m     20\u001b[0m     attr\u001b[38;5;241m.\u001b[39mposition \u001b[38;5;241m=\u001b[39m \u001b[38;5;241m1\u001b[39m\u001b[38;5;241m/\u001b[39m(i\u001b[38;5;241m+\u001b[39m\u001b[38;5;241m1\u001b[39m)\n\u001b[1;32m     21\u001b[0m     attributes[\u001b[38;5;124mf\u001b[39m\u001b[38;5;124m\"\u001b[39m\u001b[38;5;132;01m{\u001b[39;00mtable_name\u001b[38;5;132;01m}\u001b[39;00m\u001b[38;5;124m.\u001b[39m\u001b[38;5;132;01m{\u001b[39;00mcolumn\u001b[38;5;132;01m}\u001b[39;00m\u001b[38;5;124m\"\u001b[39m] \u001b[38;5;241m=\u001b[39m attr\n",
      "Cell \u001b[0;32mIn[2], line 9\u001b[0m, in \u001b[0;36mAttribute.__init__\u001b[0;34m(self, table_name, attribute_name, values)\u001b[0m\n\u001b[1;32m      7\u001b[0m \u001b[38;5;28mself\u001b[39m\u001b[38;5;241m.\u001b[39muniquness \u001b[38;5;241m=\u001b[39m \u001b[38;5;28mself\u001b[39m\u001b[38;5;241m.\u001b[39mestUniqueness()\n\u001b[1;32m      8\u001b[0m \u001b[38;5;28mself\u001b[39m\u001b[38;5;241m.\u001b[39mcardinality\u001b[38;5;241m=\u001b[39m\u001b[38;5;241m1\u001b[39m\n\u001b[0;32m----> 9\u001b[0m \u001b[38;5;28mself\u001b[39m\u001b[38;5;241m.\u001b[39mvalue_length \u001b[38;5;241m=\u001b[39m \u001b[38;5;241m1\u001b[39m\u001b[38;5;241m/\u001b[39m\u001b[38;5;28mmax\u001b[39m(\u001b[38;5;241m1\u001b[39m, \u001b[38;5;28mmax\u001b[39m([\u001b[38;5;28mlen\u001b[39m(x) \u001b[38;5;28;01mfor\u001b[39;00m x \u001b[38;5;129;01min\u001b[39;00m values]) \u001b[38;5;241m-\u001b[39m \u001b[38;5;241m8\u001b[39m)\n\u001b[1;32m     10\u001b[0m \u001b[38;5;28mself\u001b[39m\u001b[38;5;241m.\u001b[39mposition \u001b[38;5;241m=\u001b[39m \u001b[38;5;241m0\u001b[39m\n\u001b[1;32m     11\u001b[0m \u001b[38;5;28mself\u001b[39m\u001b[38;5;241m.\u001b[39msuffix \u001b[38;5;241m=\u001b[39m \u001b[38;5;28mself\u001b[39m\u001b[38;5;241m.\u001b[39mcheck_suffix()\n",
      "Cell \u001b[0;32mIn[2], line 9\u001b[0m, in \u001b[0;36m<listcomp>\u001b[0;34m(.0)\u001b[0m\n\u001b[1;32m      7\u001b[0m \u001b[38;5;28mself\u001b[39m\u001b[38;5;241m.\u001b[39muniquness \u001b[38;5;241m=\u001b[39m \u001b[38;5;28mself\u001b[39m\u001b[38;5;241m.\u001b[39mestUniqueness()\n\u001b[1;32m      8\u001b[0m \u001b[38;5;28mself\u001b[39m\u001b[38;5;241m.\u001b[39mcardinality\u001b[38;5;241m=\u001b[39m\u001b[38;5;241m1\u001b[39m\n\u001b[0;32m----> 9\u001b[0m \u001b[38;5;28mself\u001b[39m\u001b[38;5;241m.\u001b[39mvalue_length \u001b[38;5;241m=\u001b[39m \u001b[38;5;241m1\u001b[39m\u001b[38;5;241m/\u001b[39m\u001b[38;5;28mmax\u001b[39m(\u001b[38;5;241m1\u001b[39m, \u001b[38;5;28mmax\u001b[39m([\u001b[38;5;28;43mlen\u001b[39;49m\u001b[43m(\u001b[49m\u001b[43mx\u001b[49m\u001b[43m)\u001b[49m \u001b[38;5;28;01mfor\u001b[39;00m x \u001b[38;5;129;01min\u001b[39;00m values]) \u001b[38;5;241m-\u001b[39m \u001b[38;5;241m8\u001b[39m)\n\u001b[1;32m     10\u001b[0m \u001b[38;5;28mself\u001b[39m\u001b[38;5;241m.\u001b[39mposition \u001b[38;5;241m=\u001b[39m \u001b[38;5;241m0\u001b[39m\n\u001b[1;32m     11\u001b[0m \u001b[38;5;28mself\u001b[39m\u001b[38;5;241m.\u001b[39msuffix \u001b[38;5;241m=\u001b[39m \u001b[38;5;28mself\u001b[39m\u001b[38;5;241m.\u001b[39mcheck_suffix()\n",
      "\u001b[0;31mTypeError\u001b[0m: object of type 'int' has no len()"
     ]
    }
   ],
   "source": [
    "def load_csv_files(directory_path):\n",
    "    attributes = {}\n",
    "\n",
    "    csv_files = [f for f in os.listdir(directory_path)]\n",
    "\n",
    "    print(f\"Found {len(csv_files)} \\n CSV files: {csv_files}\")    \n",
    "\n",
    "    for filename in csv_files:\n",
    "        file_path = os.path.join(directory_path, filename)\n",
    "        table_name = os.path.splitext(filename)[0]\n",
    "\n",
    "        df = pd.read_csv(file_path)\n",
    "        df = df\n",
    "        print(f\"Processing {filename}: {df.shape[0]} rows, {df.shape[1]} columns\")\n",
    "\n",
    "        for i, column in enumerate(df.columns):\n",
    "            non_null_values = df[column].to_string().dropna().tolist()\n",
    "            if non_null_values:\n",
    "                attr = Attribute(table_name, column, non_null_values)\n",
    "                attr.position = 1/(i+1)\n",
    "                attributes[f\"{table_name}.{column}\"] = attr\n",
    "                print(f\"Added attribute: {attr.table_name}.{attr.attribute_name} Total Values: {len(attr.values)}\")\n",
    "                print(attr.position)\n",
    "\n",
    "    return attributes\n",
    "    \n",
    "attributes = load_csv_files(\"/home/haseeb/Desktop/EKAI/ERD_automation/Dataset/train/northwind-db\")            \n",
    "            "
   ]
  },
  {
   "cell_type": "code",
   "execution_count": null,
   "id": "e72a2895",
   "metadata": {},
   "outputs": [
    {
     "ename": "KeyError",
     "evalue": "'employee_territories.employeeid'",
     "output_type": "error",
     "traceback": [
      "\u001b[0;31m---------------------------------------------------------------------------\u001b[0m",
      "\u001b[0;31mKeyError\u001b[0m                                  Traceback (most recent call last)",
      "Cell \u001b[0;32mIn[4], line 10\u001b[0m\n\u001b[1;32m      8\u001b[0m             attributes[\u001b[38;5;28mvars\u001b[39m[\u001b[38;5;241m0\u001b[39m]]\u001b[38;5;241m.\u001b[39mreferences \u001b[38;5;241m=\u001b[39m attributes[\u001b[38;5;28mvars\u001b[39m[\u001b[38;5;241m1\u001b[39m]]\n\u001b[1;32m      9\u001b[0m             attributes[\u001b[38;5;28mvars\u001b[39m[\u001b[38;5;241m1\u001b[39m]]\u001b[38;5;241m.\u001b[39mdependent \u001b[38;5;241m=\u001b[39m attributes[\u001b[38;5;28mvars\u001b[39m[\u001b[38;5;241m0\u001b[39m]]\n\u001b[0;32m---> 10\u001b[0m \u001b[43mread_IND\u001b[49m\u001b[43m(\u001b[49m\u001b[38;5;124;43m\"\u001b[39;49m\u001b[38;5;124;43m/home/haseeb/Desktop/EKAI/ERD_automation/codes/inclusionDependencyWithSpider/spider_results/northwind-db.txt\u001b[39;49m\u001b[38;5;124;43m\"\u001b[39;49m\u001b[43m)\u001b[49m\n",
      "Cell \u001b[0;32mIn[4], line 8\u001b[0m, in \u001b[0;36mread_IND\u001b[0;34m(file_path)\u001b[0m\n\u001b[1;32m      6\u001b[0m \u001b[38;5;28;01mfor\u001b[39;00m line \u001b[38;5;129;01min\u001b[39;00m f:\n\u001b[1;32m      7\u001b[0m     \u001b[38;5;28mvars\u001b[39m \u001b[38;5;241m=\u001b[39m line\u001b[38;5;241m.\u001b[39mstrip()\u001b[38;5;241m.\u001b[39msplit(\u001b[38;5;124m\"\u001b[39m\u001b[38;5;124m=\u001b[39m\u001b[38;5;124m\"\u001b[39m)\n\u001b[0;32m----> 8\u001b[0m     attributes[\u001b[38;5;28mvars\u001b[39m[\u001b[38;5;241m0\u001b[39m]]\u001b[38;5;241m.\u001b[39mreferences \u001b[38;5;241m=\u001b[39m \u001b[43mattributes\u001b[49m\u001b[43m[\u001b[49m\u001b[38;5;28;43mvars\u001b[39;49m\u001b[43m[\u001b[49m\u001b[38;5;241;43m1\u001b[39;49m\u001b[43m]\u001b[49m\u001b[43m]\u001b[49m\n\u001b[1;32m      9\u001b[0m     attributes[\u001b[38;5;28mvars\u001b[39m[\u001b[38;5;241m1\u001b[39m]]\u001b[38;5;241m.\u001b[39mdependent \u001b[38;5;241m=\u001b[39m attributes[\u001b[38;5;28mvars\u001b[39m[\u001b[38;5;241m0\u001b[39m]]\n",
      "\u001b[0;31mKeyError\u001b[0m: 'employee_territories.employeeid'"
     ]
    }
   ],
   "source": [
    "def read_IND(file_path):\n",
    "    '''\n",
    "        fills up the dependent and reference array of attributes\n",
    "    '''\n",
    "    with open(file_path, \"r\") as f:\n",
    "        for line in f:\n",
    "            vars = line.strip().split(\"=\")\n",
    "            attributes[vars[0]].references = attributes[vars[1]]\n",
    "            attributes[vars[1]].dependent = attributes[vars[0]]\n",
    "read_IND(\"/home/haseeb/Desktop/EKAI/ERD_automation/codes/inclusionDependencyWithSpider/spider_results/northwind-db.txt\")"
   ]
  },
  {
   "cell_type": "code",
   "execution_count": null,
   "id": "72e8595b",
   "metadata": {},
   "outputs": [
    {
     "name": "stdout",
     "output_type": "stream",
     "text": [
      "event.name->2.812766676853255\n",
      "event.date->2.4162011610005836\n",
      "event.type->2.4031579383843615\n",
      "event.remark ->2.0685899250139372\n",
      "pet.lexicon->3.0159583460665687\n",
      "pet.owner->2.5039474229804517\n",
      "pet.species->2.5039474229804517\n",
      "pet.sex->2.3772145840653494\n",
      "pet.birth->2.5159583460665687\n",
      "pet.death->1.750981678752828\n"
     ]
    }
   ],
   "source": [
    "for key, value in attributes.items():\n",
    "    print(key + \"->\" + str(value.pkScore))"
   ]
  },
  {
   "cell_type": "code",
   "execution_count": null,
   "id": "1c455553",
   "metadata": {},
   "outputs": [],
   "source": []
  }
 ],
 "metadata": {
  "kernelspec": {
   "display_name": "ERD_automation_1",
   "language": "python",
   "name": "python3"
  },
  "language_info": {
   "codemirror_mode": {
    "name": "ipython",
    "version": 3
   },
   "file_extension": ".py",
   "mimetype": "text/x-python",
   "name": "python",
   "nbconvert_exporter": "python",
   "pygments_lexer": "ipython3",
   "version": "3.10.18"
  }
 },
 "nbformat": 4,
 "nbformat_minor": 5
}
