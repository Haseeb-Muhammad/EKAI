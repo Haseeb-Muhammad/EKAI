{
 "cells": [
  {
   "cell_type": "code",
   "execution_count": null,
   "id": "dc10a226",
   "metadata": {},
   "outputs": [],
   "source": [
    "from main2 import Holistic"
   ]
  }
 ],
 "metadata": {
  "language_info": {
   "name": "python"
  }
 },
 "nbformat": 4,
 "nbformat_minor": 5
}
